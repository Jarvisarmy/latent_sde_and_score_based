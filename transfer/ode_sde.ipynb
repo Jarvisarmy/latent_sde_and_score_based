{
 "cells": [
  {
   "cell_type": "code",
   "execution_count": 1,
   "id": "2a212473",
   "metadata": {},
   "outputs": [],
   "source": [
    "import argparse\n",
    "import logging\n",
    "import math\n",
    "import os\n",
    "import random\n",
    "from collections import namedtuple\n",
    "from typing import Optional, Union\n",
    "\n",
    "import matplotlib.pyplot as plt\n",
    "import numpy as np\n",
    "import torch\n",
    "import tqdm\n",
    "from torch import distributions, nn, optim\n",
    "\n",
    "import torchsde"
   ]
  },
  {
   "cell_type": "code",
   "execution_count": 2,
   "id": "5d475b5e",
   "metadata": {},
   "outputs": [],
   "source": [
    "device = torch.device('cuda:0' if torch.cuda.is_available() else 'cpu')"
   ]
  },
  {
   "cell_type": "code",
   "execution_count": 31,
   "id": "1a633c7f",
   "metadata": {},
   "outputs": [],
   "source": [
    "args = {\n",
    "    \"train_iters\": 500,\n",
    "    \"pause_iters\": 50,\n",
    "    \"hide_ticks\": False,\n",
    "    \"save_ckpt\":True,\n",
    "    \"likelihood\":\"laplace\",\n",
    "    \"scale\": 0.0001,\n",
    "    \"adjoint\": False,\n",
    "    \"debug\": True,\n",
    "    \"seed\": 42,\n",
    "    'data':'segmented_cosine',\n",
    "    \"dt\": 1e-2,\n",
    "    \"batch_size\": 1024,\n",
    "    \"method\": 'euler',\n",
    "    \"adaptive\": 'False',\n",
    "    \"rtol\": 1e-3,\n",
    "    \"atol\": 1e-3\n",
    "    \n",
    "}\n",
    "sdeint_fn = torchsde.sdeint_adjoint if args['adjoint'] else torchsde.sdeint"
   ]
  },
  {
   "cell_type": "code",
   "execution_count": 32,
   "id": "f635e432",
   "metadata": {},
   "outputs": [],
   "source": [
    "y0 = torch.ones(args['batch_size'],1)\n",
    "ts = torch.linspace(0,30,30)\n",
    "\n",
    "class SDE(torchsde.SDEIto):\n",
    "    def __init__(self, theta=1.0, mu=0.0, sigma=0.5):\n",
    "        super(SDE, self).__init__(noise_type=\"diagonal\")\n",
    "        self.register_buffer(\"theta\",torch.tensor([[theta]]))\n",
    "        self.register_buffer(\"mu\", torch.tensor([[mu]]))\n",
    "        self.register_buffer(\"sigma\",torch.tensor([[sigma]]))\n",
    "    def g(self,t, y):  # Shared diffusion.\n",
    "        return self.sigma.repeat(y.size(0), 1)\n",
    "\n",
    "    def f(self,t, y):  # Prior drift.\n",
    "        return self.theta * (self.mu - y)\n",
    "    \n",
    "    def f_bar(self,t,y):\n",
    "        fv = self.f(t,y)\n",
    "        gv = self.g(t,t)\n",
    "        \n",
    "    \n",
    "    def forward(self):\n",
    "        y0 = torch.ones(args['batch_size'],1)\n",
    "        ts = torch.linspace(0,30,30)\n",
    "        ys = sdeint_fn(self,y0, ts, method=args['method'], dt=args['dt']) \n",
    "        return ys\n",
    "\n",
    "    \n",
    "    def ode(self):\n",
    "        \n",
    "        "
   ]
  },
  {
   "cell_type": "code",
   "execution_count": null,
   "id": "f7903555",
   "metadata": {},
   "outputs": [],
   "source": [
    "model = SDE()"
   ]
  },
  {
   "cell_type": "code",
   "execution_count": 42,
   "id": "698e3958",
   "metadata": {},
   "outputs": [
    {
     "name": "stdout",
     "output_type": "stream",
     "text": [
      "torch.Size([1024])\n"
     ]
    }
   ],
   "source": [
    "model = SDE()\n",
    "zs = model()[-1].squeeze()\n",
    "print(zs.shape)"
   ]
  },
  {
   "cell_type": "code",
   "execution_count": 45,
   "id": "2fd6db3e",
   "metadata": {},
   "outputs": [
    {
     "data": {
      "text/plain": [
       "(array([ 2.,  0.,  2.,  0.,  1.,  0.,  1.,  1.,  0.,  1.,  1.,  2.,  1.,\n",
       "         2.,  2.,  1.,  2.,  2.,  5.,  3., 10.,  6.,  4.,  6.,  6.,  8.,\n",
       "         9., 12.,  8., 14.,  6.,  9., 10., 21., 20., 17., 15., 12., 22.,\n",
       "        19., 25., 26., 22., 25., 27., 16., 30., 25., 29., 28., 29., 22.,\n",
       "        31., 28., 23., 26., 27., 24., 30., 16., 14., 21., 19., 12., 16.,\n",
       "        17., 10.,  9., 15., 12., 14., 11., 12., 11., 12.,  9.,  5.,  4.,\n",
       "         5.,  4.,  3.,  5.,  2.,  3.,  1.,  0.,  1.,  0.,  1.,  0.,  0.,\n",
       "         0.,  1.,  0.,  2.,  0.,  0.,  0.,  0.,  1.]),\n",
       " array([-1.0829861 , -1.0609555 , -1.0389248 , -1.0168942 , -0.99486357,\n",
       "        -0.9728329 , -0.95080227, -0.9287716 , -0.90674096, -0.8847103 ,\n",
       "        -0.86267966, -0.84064907, -0.8186184 , -0.79658777, -0.7745571 ,\n",
       "        -0.75252646, -0.7304958 , -0.70846516, -0.68643457, -0.6644039 ,\n",
       "        -0.64237326, -0.6203426 , -0.59831196, -0.5762813 , -0.55425066,\n",
       "        -0.53222   , -0.5101894 , -0.48815876, -0.4661281 , -0.44409746,\n",
       "        -0.4220668 , -0.4000362 , -0.37800553, -0.35597488, -0.33394426,\n",
       "        -0.3119136 , -0.28988296, -0.2678523 , -0.24582167, -0.22379103,\n",
       "        -0.20176038, -0.17972974, -0.15769911, -0.13566846, -0.11363781,\n",
       "        -0.09160717, -0.06957653, -0.04754588, -0.02551524, -0.0034846 ,\n",
       "         0.01854604,  0.04057669,  0.06260733,  0.08463798,  0.10666862,\n",
       "         0.12869926,  0.15072991,  0.17276055,  0.1947912 ,  0.21682183,\n",
       "         0.23885247,  0.26088312,  0.28291377,  0.3049444 ,  0.32697505,\n",
       "         0.3490057 ,  0.37103635,  0.39306697,  0.41509762,  0.43712828,\n",
       "         0.4591589 ,  0.48118955,  0.5032202 ,  0.52525085,  0.5472815 ,\n",
       "         0.5693121 ,  0.59134275,  0.6133734 ,  0.63540405,  0.6574347 ,\n",
       "         0.67946535,  0.701496  ,  0.72352666,  0.74555725,  0.7675879 ,\n",
       "         0.78961855,  0.8116492 ,  0.83367985,  0.8557105 ,  0.87774116,\n",
       "         0.89977175,  0.9218024 ,  0.94383305,  0.9658637 ,  0.98789436,\n",
       "         1.009925  ,  1.0319556 ,  1.0539863 ,  1.0760169 ,  1.0980476 ,\n",
       "         1.1200782 ], dtype=float32),\n",
       " <BarContainer object of 100 artists>)"
      ]
     },
     "execution_count": 45,
     "metadata": {},
     "output_type": "execute_result"
    },
    {
     "data": {
      "image/png": "[encoded data removed]",
      "text/plain": [
       "<Figure size 432x288 with 1 Axes>"
      ]
     },
     "metadata": {
      "needs_background": "light"
     },
     "output_type": "display_data"
    }
   ],
   "source": [
    "plt.hist(zs.cpu().numpy(),bins=100)"
   ]
  },
  {
   "cell_type": "code",
   "execution_count": null,
   "id": "cd0872ee",
   "metadata": {},
   "outputs": [],
   "source": []
  }
 ],
 "metadata": {
  "kernelspec": {
   "display_name": "Python 3",
   "language": "python",
   "name": "python3"
  },
  "language_info": {
   "codemirror_mode": {
    "name": "ipython",
    "version": 3
   },
   "file_extension": ".py",
   "mimetype": "text/x-python",
   "name": "python",
   "nbconvert_exporter": "python",
   "pygments_lexer": "ipython3",
   "version": "3.9.5"
  }
 },
 "nbformat": 4,
 "nbformat_minor": 5
}
