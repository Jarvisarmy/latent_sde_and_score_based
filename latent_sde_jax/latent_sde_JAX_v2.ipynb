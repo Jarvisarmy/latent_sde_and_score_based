{
  "cells": [
    {
      "cell_type": "markdown",
      "source": [
        "在v1的基础上，将variables和params打包放进方程里"
      ],
      "metadata": {
        "id": "qEtM0AWZKrQj"
      },
      "id": "qEtM0AWZKrQj"
    },
    {
      "cell_type": "code",
      "source": [
        "!pip install diffrax"
      ],
      "metadata": {
        "colab": {
          "base_uri": "https://localhost:8080/"
        },
        "id": "zSqG-4bdHe42",
        "outputId": "6570d0d4-50c9-4c65-e7a8-cd1d855cae6f"
      },
      "id": "zSqG-4bdHe42",
      "execution_count": 1,
      "outputs": [
        {
          "output_type": "stream",
          "name": "stdout",
          "text": [
            "Looking in indexes: https://pypi.org/simple, https://us-python.pkg.dev/colab-wheels/public/simple/\n",
            "Collecting diffrax\n",
            "  Downloading diffrax-0.2.1-py3-none-any.whl (140 kB)\n",
            "\u001b[K     |████████████████████████████████| 140 kB 5.3 MB/s \n",
            "\u001b[?25hCollecting equinox>=0.5.4\n",
            "  Downloading equinox-0.6.0-py3-none-any.whl (66 kB)\n",
            "\u001b[K     |████████████████████████████████| 66 kB 2.9 MB/s \n",
            "\u001b[?25hRequirement already satisfied: jax>=0.3.4 in /usr/local/lib/python3.7/dist-packages (from diffrax) (0.3.14)\n",
            "Requirement already satisfied: absl-py in /usr/local/lib/python3.7/dist-packages (from jax>=0.3.4->diffrax) (1.2.0)\n",
            "Requirement already satisfied: typing-extensions in /usr/local/lib/python3.7/dist-packages (from jax>=0.3.4->diffrax) (4.1.1)\n",
            "Requirement already satisfied: scipy>=1.5 in /usr/local/lib/python3.7/dist-packages (from jax>=0.3.4->diffrax) (1.7.3)\n",
            "Requirement already satisfied: etils[epath] in /usr/local/lib/python3.7/dist-packages (from jax>=0.3.4->diffrax) (0.7.1)\n",
            "Requirement already satisfied: numpy>=1.19 in /usr/local/lib/python3.7/dist-packages (from jax>=0.3.4->diffrax) (1.21.6)\n",
            "Requirement already satisfied: opt-einsum in /usr/local/lib/python3.7/dist-packages (from jax>=0.3.4->diffrax) (3.3.0)\n",
            "Requirement already satisfied: zipp in /usr/local/lib/python3.7/dist-packages (from etils[epath]->jax>=0.3.4->diffrax) (3.8.1)\n",
            "Requirement already satisfied: importlib_resources in /usr/local/lib/python3.7/dist-packages (from etils[epath]->jax>=0.3.4->diffrax) (5.9.0)\n",
            "Installing collected packages: equinox, diffrax\n",
            "Successfully installed diffrax-0.2.1 equinox-0.6.0\n"
          ]
        }
      ]
    },
    {
      "cell_type": "code",
      "source": [
        "!pip install optax"
      ],
      "metadata": {
        "colab": {
          "base_uri": "https://localhost:8080/"
        },
        "id": "_fGs3fwUHlcr",
        "outputId": "3e063f37-6048-43d3-8ef8-7640a24bd003"
      },
      "id": "_fGs3fwUHlcr",
      "execution_count": 2,
      "outputs": [
        {
          "output_type": "stream",
          "name": "stdout",
          "text": [
            "Looking in indexes: https://pypi.org/simple, https://us-python.pkg.dev/colab-wheels/public/simple/\n",
            "Collecting optax\n",
            "  Downloading optax-0.1.3-py3-none-any.whl (145 kB)\n",
            "\u001b[K     |████████████████████████████████| 145 kB 5.8 MB/s \n",
            "\u001b[?25hRequirement already satisfied: absl-py>=0.7.1 in /usr/local/lib/python3.7/dist-packages (from optax) (1.2.0)\n",
            "Collecting chex>=0.0.4\n",
            "  Downloading chex-0.1.4-py3-none-any.whl (76 kB)\n",
            "\u001b[K     |████████████████████████████████| 76 kB 4.9 MB/s \n",
            "\u001b[?25hRequirement already satisfied: numpy>=1.18.0 in /usr/local/lib/python3.7/dist-packages (from optax) (1.21.6)\n",
            "Requirement already satisfied: typing-extensions>=3.10.0 in /usr/local/lib/python3.7/dist-packages (from optax) (4.1.1)\n",
            "Requirement already satisfied: jaxlib>=0.1.37 in /usr/local/lib/python3.7/dist-packages (from optax) (0.3.14+cuda11.cudnn805)\n",
            "Requirement already satisfied: jax>=0.1.55 in /usr/local/lib/python3.7/dist-packages (from optax) (0.3.14)\n",
            "Requirement already satisfied: toolz>=0.9.0 in /usr/local/lib/python3.7/dist-packages (from chex>=0.0.4->optax) (0.12.0)\n",
            "Requirement already satisfied: dm-tree>=0.1.5 in /usr/local/lib/python3.7/dist-packages (from chex>=0.0.4->optax) (0.1.7)\n",
            "Requirement already satisfied: scipy>=1.5 in /usr/local/lib/python3.7/dist-packages (from jax>=0.1.55->optax) (1.7.3)\n",
            "Requirement already satisfied: etils[epath] in /usr/local/lib/python3.7/dist-packages (from jax>=0.1.55->optax) (0.7.1)\n",
            "Requirement already satisfied: opt-einsum in /usr/local/lib/python3.7/dist-packages (from jax>=0.1.55->optax) (3.3.0)\n",
            "Requirement already satisfied: flatbuffers<3.0,>=1.12 in /usr/local/lib/python3.7/dist-packages (from jaxlib>=0.1.37->optax) (2.0)\n",
            "Requirement already satisfied: zipp in /usr/local/lib/python3.7/dist-packages (from etils[epath]->jax>=0.1.55->optax) (3.8.1)\n",
            "Requirement already satisfied: importlib_resources in /usr/local/lib/python3.7/dist-packages (from etils[epath]->jax>=0.1.55->optax) (5.9.0)\n",
            "Installing collected packages: chex, optax\n",
            "Successfully installed chex-0.1.4 optax-0.1.3\n"
          ]
        }
      ]
    },
    {
      "cell_type": "code",
      "execution_count": 3,
      "id": "c4dd7b82",
      "metadata": {
        "colab": {
          "base_uri": "https://localhost:8080/"
        },
        "id": "c4dd7b82",
        "outputId": "426eb8a0-b8d9-4338-ecc9-73b4e1e534a0"
      },
      "outputs": [
        {
          "output_type": "stream",
          "name": "stderr",
          "text": [
            "/usr/local/lib/python3.7/dist-packages/jax/experimental/stax.py:30: FutureWarning: jax.experimental.stax is deprecated, import jax.example_libraries.stax instead\n",
            "  FutureWarning)\n"
          ]
        }
      ],
      "source": [
        "import argparse\n",
        "import logging\n",
        "import math\n",
        "import os\n",
        "import random\n",
        "from collections import namedtuple\n",
        "from typing import Optional, Union, NamedTuple\n",
        "from functools import partial\n",
        "\n",
        "import matplotlib.pyplot as plt\n",
        "import numpy as np\n",
        "import tqdm\n",
        "import time\n",
        "\n",
        "import diffrax\n",
        "import equinox as eqx\n",
        "import jax\n",
        "import jax.nn as jnn\n",
        "import jax.numpy as jnp\n",
        "import jax.random as jrandom\n",
        "from jax import grad, jit, vmap, value_and_grad\n",
        "import optax\n",
        "\n",
        "from jax.experimental import stax\n",
        "from jax.experimental.stax import (BatchNorm, Conv, Dense, Flatten, Relu, Tanh,LogSoftmax)\n",
        "#from jax.experimental import optimizers\n",
        "from jax.example_libraries import optimizers"
      ]
    },
    {
      "cell_type": "code",
      "execution_count": 4,
      "id": "40420fef",
      "metadata": {
        "id": "40420fef"
      },
      "outputs": [],
      "source": [
        "# output values from 0 to maxval with iters steps\n",
        "class LinearScheduler(object):\n",
        "    def __init__(self, iters, maxval=1.0):\n",
        "        self._iters = max(1,iters)\n",
        "        self._val = maxval/self._iters\n",
        "        self._maxval = maxval\n",
        "    \n",
        "    def step(self):\n",
        "        self._val = min(self._maxval, self._val+self._maxval/self._iters)\n",
        "        \n",
        "    @property\n",
        "    def val(self):\n",
        "        return self._val"
      ]
    },
    {
      "cell_type": "code",
      "execution_count": 5,
      "id": "93c09c38",
      "metadata": {
        "id": "93c09c38"
      },
      "outputs": [],
      "source": [
        "class EMAMetric(object):\n",
        "    def __init__(self, gamma: Optional[float]=0.99):\n",
        "        super(EMAMetric, self).__init__()\n",
        "        self._val=None\n",
        "        self._gamma = gamma\n",
        "    def step(self, x):\n",
        "        if self._val is None:\n",
        "            self._val = x\n",
        "        else:\n",
        "            self._val = self._gamma * self._val + (1-self._gamma)*x\n",
        "        return self._val\n",
        "    \n",
        "    @property\n",
        "    def val(self):\n",
        "        return self._val"
      ]
    },
    {
      "cell_type": "code",
      "execution_count": 6,
      "id": "98a2f4bf",
      "metadata": {
        "id": "98a2f4bf"
      },
      "outputs": [],
      "source": [
        "# make sure that the dvision is stable\n",
        "def _stable_division(a,b,epsilon=1e-7):\n",
        "    b = jnp.where(jnp.absolute(b)> epsilon, b, jnp.full_like(b, fill_value=epsilon)*jnp.sign(b))\n",
        "    return a/b"
      ]
    },
    {
      "cell_type": "code",
      "execution_count": 6,
      "id": "72c072bd",
      "metadata": {
        "id": "72c072bd"
      },
      "outputs": [],
      "source": [
        "\n"
      ]
    },
    {
      "cell_type": "markdown",
      "id": "80736fff",
      "metadata": {
        "id": "80736fff"
      },
      "source": [
        "## 5. Simulation of time series"
      ]
    },
    {
      "cell_type": "code",
      "execution_count": 7,
      "id": "bf12fb4a",
      "metadata": {
        "colab": {
          "base_uri": "https://localhost:8080/",
          "height": 265
        },
        "id": "bf12fb4a",
        "outputId": "a7491d57-2447-458c-c413-91b118deea59"
      },
      "outputs": [
        {
          "output_type": "display_data",
          "data": {
            "text/plain": [
              "<Figure size 432x288 with 1 Axes>"
            ],
            "image/png": "[encoded data removed]"
          },
          "metadata": {
            "needs_background": "light"
          }
        }
      ],
      "source": [
        "T = 240\n",
        "t_end = 24.\n",
        "t_start = 1.\n",
        "t = np.linspace(t_start,t_end,T)\n",
        "\n",
        "gap = 160\n",
        "s = 30\n",
        "mu = 0\n",
        "sigma = 0.1\n",
        "phi = 0.9\n",
        "def make_time_series():\n",
        "    z0 = np.random.normal(0,sigma,1)\n",
        "    z = np.zeros(T)\n",
        "    z[0] = z0\n",
        "    shocks = np.random.normal(mu, sigma, T)\n",
        "    for idx in range(T-1):\n",
        "        idx_t = t[idx]\n",
        "        z[idx+1] = phi*z[idx] + shocks[idx] + 0.2*np.sin(2*10*np.pi*(idx_t)/s)\n",
        "    return z\n",
        "r = make_time_series()\n",
        "r_train = r[:gap]\n",
        "r_test = r[gap:]\n",
        "plt.plot(range(gap),r_train)\n",
        "plt.plot(range(gap,T),r_test)\n",
        "plt.show()\n"
      ]
    },
    {
      "cell_type": "code",
      "execution_count": 8,
      "id": "0cf9fca1",
      "metadata": {
        "id": "0cf9fca1"
      },
      "outputs": [],
      "source": [
        "@jit\n",
        "def make_data():\n",
        "    ts_ = jnp.array(t)\n",
        "    ts_ext_ = jnp.array([t_start-0.1] + list(ts_) + [t_end+0.1])\n",
        "    ts_vis_ = jnp.linspace(t_start,t_end, 1000)\n",
        "    ys_ = jnp.array(r[:,None])\n",
        "    return ts_, ts_ext_, ts_vis_, ys_"
      ]
    },
    {
      "cell_type": "code",
      "execution_count": 9,
      "id": "1b2a7d23",
      "metadata": {
        "id": "1b2a7d23"
      },
      "outputs": [],
      "source": [
        "\n",
        "\n",
        "\n",
        "\n",
        "init_net, net = stax.serial(Dense(200),Tanh,\n",
        "                           Dense(200),Tanh,\n",
        "                           Dense(1))\n",
        "class Constant(NamedTuple):\n",
        "    theta: float\n",
        "    mu: float\n",
        "    sigma: float\n",
        "    py0_mean: jnp.array\n",
        "    py0_logvar: jnp.array\n",
        "\n",
        "\n",
        "def init_MLP(init_net,parent_key, batch_size, scale=0.01,theta=1.0,mu=0.,sigma=1.):\n",
        "    logvar = jnp.log(sigma**2/(2.*theta))\n",
        "    params = []\n",
        "    params.append([jnp.array([[mu]]),jnp.array([[logvar]])])\n",
        "    _,net_params = init_net(parent_key,(batch_size,5))\n",
        "    params = params + net_params\n",
        "\n",
        "    return params, Constant(theta,mu,sigma,jnp.array([[mu]]),jnp.array([[logvar]]))\n",
        "\n",
        "\n",
        "\n",
        "@partial(jit,static_argnums=(2,))\n",
        "def loss(params,variables,batch_size,ts,ys,key):\n",
        "    zs, kl = forward(ts,batch_size,variables,params,key)\n",
        "    zs = jnp.squeeze(zs)\n",
        "    zs = zs[1:-1] \n",
        "    logpy = jax.scipy.stats.norm.logpdf(ys,loc=zs,scale=0.0001).sum(axis=0).mean(axis=0)\n",
        "    loss = -logpy + kl #* kl_scheduler.val\n",
        "    return loss\n",
        "\n",
        "def forward(ts, batch_size,variables,params,key):\n",
        "    theta, mu, sigma,py0_mean,py0_logvar = variables\n",
        "    def f(t, y,args):\n",
        "        t = jnp.full_like(y, t)\n",
        "        x = jnp.concatenate((jnp.sin(t),jnp.cos(t),jnp.sin(t**2),jnp.cos(t**2),y),axis=-1)\n",
        "        res =net(params[1:],x)\n",
        "        return res\n",
        "\n",
        "\n",
        "    def g(t, y,args):  # Shared diffusion.\n",
        "        res = jnp.ones((jnp.size(y,0),1))*sigma\n",
        "        return res\n",
        "\n",
        "    def h(t, y,args):  # Prior drift.\n",
        "        res = theta * (mu - y)\n",
        "        return res\n",
        "\n",
        "    def f_aug(t, y,args):  # Drift for augmented dynamics with logqp term.\n",
        "\n",
        "        y = y[:,0:1] # 提取第一列，保持列的形态\n",
        "\n",
        "        fv, gv, hv = f(t, y,args), g(t, y,args), h(t, y,args)\n",
        "\n",
        "        u = _stable_division(fv - hv, gv) # 计算u(z,t)\n",
        "\n",
        "        f_logqp = .5 * (u ** 2) # 计算integral\n",
        "\n",
        "        res = jnp.concatenate([fv, f_logqp],axis=-1)\n",
        "\n",
        "        return res\n",
        "\n",
        "    def g_aug(t, y,args):  # Diffusion for augmented dynamics with logqp term.\n",
        "        y = y[:,0:1]\n",
        "        gv = g(t, y,args)\n",
        "        g_logqp = jnp.zeros_like(y)\n",
        "        res = jnp.concatenate([gv, g_logqp],axis=-1)\n",
        "        return res\n",
        "    t0 = ts[0]\n",
        "    t1 = ts[-1]\n",
        "    dt0 = 0.01\n",
        "    py0_std = jnp.exp(.5 * py0_logvar)\n",
        "    qy0_mean = params[0][0]\n",
        "    qy0_std = jnp.exp(.5*params[0][1])\n",
        "    eps_key,bm_key = jrandom.split(key,2)\n",
        "    eps = jrandom.normal(key=eps_key,shape=(batch_size,1))\n",
        "    y0 = qy0_mean + eps * qy0_std\n",
        "    logqp0 = jnp.log(qy0_std/py0_std+(py0_std**2+(py0_mean-qy0_mean)**2)/(2*qy0_std**2)-0.5)\n",
        "    logqp0 = logqp0.sum(axis=1)\n",
        "    aug_y0 = jnp.concatenate([y0, jnp.zeros((batch_size,1))],axis=1)\n",
        "        \n",
        "    #control = diffrax.VirtualBrownianTree(t0=ts[0],t1=ts[-1],tol=0.5,shape=(),key=bm_key)\n",
        "    #control = diffrax.UnsafeBrownianPath(shape=(),key=bm_key)\n",
        "    #control = diffrax.VirtualBrownianTree(t0=t0,t1=t1,tol=dt0/2,shape=(batch_size,2),key=bm_key)\n",
        "    control = diffrax.VirtualBrownianTree(t0=t0,t1=t1,tol=dt0/2,shape=(1,2),key=bm_key)\n",
        "    vf = diffrax.ODETerm(f_aug)\n",
        "    cvf = diffrax.ControlTerm(g_aug, control)\n",
        "    terms = diffrax.MultiTerm(vf,cvf)\n",
        "    solver = diffrax.Euler()\n",
        "    saveat=diffrax.SaveAt(ts=ts)\n",
        "    def integrate(y):\n",
        "        y = jnp.array([y])\n",
        "        sol = diffrax.diffeqsolve(terms, solver, t0,t1,dt0,y0=y,saveat=saveat)\n",
        "        return sol.ys\n",
        "    aug_ys = vmap(integrate,in_axes=(0))(aug_y0).squeeze()\n",
        "    print(\"i am here\")\n",
        "    aug_ys = jnp.transpose(aug_ys,axes=(1,0,2))\n",
        "    ys, logqp_path = aug_ys[:, :, 0:1], aug_ys[-1, :, 1]\n",
        "    logqp = (logqp0+logqp_path).mean()\n",
        "    return ys, logqp\n",
        "def sample_p(ts, batch_size,variables, params,eps,control,key):\n",
        "    \n",
        "    theta, mu, sigma, py0_mean,py0_logvar = variables\n",
        "    def g(t, y,args):  # Shared diffusion.\n",
        "        return jnp.ones((jnp.size(y,0),1))*sigma\n",
        "\n",
        "    def h(t, y,args):  # Prior drift.\n",
        "        return theta * (mu - y)\n",
        "    \n",
        "    t0 = ts[0]\n",
        "    t1 = ts[-1]\n",
        "    dt0 = 0.01\n",
        "    py0_mean = params[0][1]\n",
        "    py0_std = jnp.exp(.5*params[0][1])\n",
        "    eps_key,bm_key = jrandom.split(key,2)\n",
        "    y0 = py0_mean + eps * py0_std\n",
        "    vf = diffrax.ODETerm(h)\n",
        "    cvf = diffrax.ControlTerm(g, control)\n",
        "    terms = diffrax.MultiTerm(vf,cvf)\n",
        "    solver = diffrax.Euler()\n",
        "    saveat=diffrax.SaveAt(ts=ts)\n",
        "    sol = diffrax.diffeqsolve(terms, solver, t0,t1,dt0,y0=y0,saveat=saveat,adjoint=diffrax.NoAdjoint())\n",
        "    return sol.ys\n",
        "\n",
        "def sample_q(ts, batch_size, variables,params,eps,control,key):\n",
        "    theta, mu, sigma, py0_mean,py0_logvar = variables\n",
        "    def f(t, y,args):\n",
        "        t = jnp.full_like(y, t)\n",
        "        return net(params[1:],jnp.concatenate((jnp.sin(t),jnp.cos(t),y),axis=-1))\n",
        "\n",
        "    def g(t, y,args):  # Shared diffusion.\n",
        "        return jnp.ones((jnp.size(y,0),1))*sigma\n",
        "    t0 = ts[0]\n",
        "    t1 = ts[-1]\n",
        "    dt0 = 0.01\n",
        "    qy0_mean = params[0][1]\n",
        "    qy0_std = jnp.exp(.5*params[0][1])\n",
        "    eps_key,bm_key = jrandom.split(key,2)\n",
        "\n",
        "    y0 = qy0_mean + eps * qy0_std\n",
        "    vf = diffrax.ODETerm(f)\n",
        "    cvf = diffrax.ControlTerm(g, control)\n",
        "    terms = diffrax.MultiTerm(vf,cvf)\n",
        "    solver = diffrax.Euler()\n",
        "    saveat=diffrax.SaveAt(ts=ts)\n",
        "    sol = diffrax.diffeqsolve(terms, solver, t0,t1,dt0,y0=y0,saveat=saveat,adjoint=diffrax.NoAdjoint())\n",
        "    return sol.ys"
      ]
    },
    {
      "cell_type": "code",
      "execution_count": 10,
      "id": "94f004c4",
      "metadata": {
        "id": "94f004c4"
      },
      "outputs": [],
      "source": [
        "\n",
        "\n",
        "def update(params, variables,batch_size,ts, ys, opt_state,opt_update,get_params,key):\n",
        "    value, grads = value_and_grad(loss,argnums=(0))(params,variables,batch_size,ts,ys,key)\n",
        "    opt_state = opt_update(0,grads, opt_state)\n",
        "    return get_params(opt_state),opt_state, value"
      ]
    },
    {
      "cell_type": "code",
      "execution_count": 11,
      "id": "99a1fc23",
      "metadata": {
        "id": "99a1fc23"
      },
      "outputs": [],
      "source": [
        "def main(num_epochs = 500):\n",
        "    \n",
        "    \n",
        "    ts, ts_ext, ts_vis, ys = make_data()\n",
        "    key = jrandom.PRNGKey(1)\n",
        "    batch_size = 256\n",
        "    init_key,p_key,eps_key, bm_key,per_key,k1 = jrandom.split(key,6)\n",
        "\n",
        "\n",
        "    init_net, net = stax.serial(Dense(200),Tanh,\n",
        "                           Dense(200),Tanh,\n",
        "                           Dense(1))\n",
        "\n",
        "    params, variables = init_MLP(init_net,init_key,batch_size)\n",
        "    opt_init, opt_update, get_params = optimizers.adam(1e-2)\n",
        "    opt_state = opt_init(params)\n",
        "    kl_scheduler = LinearScheduler(iters=100)\n",
        "        \n",
        "    logpy_metric = EMAMetric()\n",
        "    kl_metric = EMAMetric()\n",
        "    loss_metric = EMAMetric()\n",
        "\n",
        "    vis_batch_size = 1024\n",
        "    ylims = (-1., 1.)\n",
        "    \n",
        "    alphas = [0.05, 0.10, 0.15, 0.20, 0.25, 0.30, 0.35, 0.40, 0.45, 0.50, 0.55]\n",
        "    percentiles = [0.999, 0.99, 0.9, 0.8, 0.7, 0.6, 0.5, 0.4, 0.3, 0.2, 0.1]\n",
        "    vis_idx = jrandom.permutation(key=per_key,x=vis_batch_size)\n",
        "    sample_colors = ('#8c96c6', '#8c6bb1', '#810f7c')\n",
        "    fill_color = '#9ebcda'\n",
        "    mean_color = '#4d004b'\n",
        "    num_samples = len(sample_colors)\n",
        "    eps = jrandom.normal(key=eps_key,shape=(vis_batch_size,1))\n",
        "    control = diffrax.VirtualBrownianTree(t0=ts_vis[0],t1=ts_vis[-1],tol=1e-2/2,shape=(vis_batch_size,1),key=jrandom.PRNGKey(1))\n",
        "    #control = diffrax.UnsafeBrownianPath(shape=(),key=bm_key)\n",
        "    sigma = jnp.std(ys)\n",
        "    params = get_params(opt_state)\n",
        "    \n",
        "    # plot prior\n",
        "    zs = sample_p(ts_vis,batch_size,variables,params,eps,control,p_key).squeeze()\n",
        "    zs = jnp.sort(zs,axis=1)\n",
        "    plt.subplot(frameon=False)\n",
        "    for alpha, percentile in zip(alphas, percentiles):\n",
        "        idx = int((1 - percentile) / 2. * vis_batch_size)\n",
        "        zs_bot = zs[:, idx]\n",
        "        zs_top = zs[:, -idx]\n",
        "        \n",
        "        plt.fill_between(ts_vis, zs_bot, zs_top, alpha=alpha, color=fill_color)\n",
        "\n",
        "    \n",
        "    plt.scatter(ts, ys, marker='x', zorder=3, color='k', s=35)  # Data.\n",
        "    plt.plot(ts, ys, marker='x', zorder=3, color='k',label=\"observed $r_t$\")\n",
        "    #plt.plot(ts, z[:,None], color='g', linewidth=3.0, label=r\"hidden variable $z_t$\")\n",
        "    plt.ylim(ylims)\n",
        "    plt.xlabel('$t$')\n",
        "    plt.ylabel('$Y_t$')\n",
        "        \n",
        "    plt.tight_layout()\n",
        "    plt.legend()\n",
        "    #plt.savefig('./img_diffrax/prior.png', dpi=300)\n",
        "    plt.show()\n",
        "    plt.close()\n",
        "    \n",
        "    # for loop\n",
        "    for epoch in range(num_epochs):\n",
        "        if (epoch+1) % 10 == 0:\n",
        "            img_path = os.path.join(\"./img_diffrax/\", f'global_step_{epoch+1}.png')\n",
        "            zs = sample_q(ts_vis,batch_size,variables,params,eps,control,p_key).squeeze()\n",
        "            plt.plot(ts_vis, zs.mean(axis=1), color='r',label=r'mean of latent variables')\n",
        "            plt.scatter(ts, ys, marker='x', zorder=3, color='k', s=35)  # Data.\n",
        "            plt.plot(ts, ys, marker='x', zorder=3, color='k',label=\"observed $r_t$\")\n",
        "            #plt.plot(ts, z[:,None], color='g', linewidth=3.0, label=r\"hidden variable $z_t$\")\n",
        "            plt.ylim(ylims)\n",
        "            plt.xlabel('$t$')\n",
        "            plt.ylabel('$Y_t$')\n",
        "\n",
        "            plt.tight_layout()\n",
        "            plt.legend()\n",
        "            #plt.savefig(img_path, dpi=300)\n",
        "            plt.show()\n",
        "            plt.close()\n",
        "        start_time = time.time()\n",
        "        params, opt_state, loss = update(params, variables,batch_size,ts_ext,ys, opt_state,opt_update, get_params,k1)\n",
        "        \n",
        "        loss_metric.step(loss)\n",
        "        kl_scheduler.step()\n",
        "        epoch_time = time.time()-start_time\n",
        "        print(\"Epoch {} | T: {:0.2f} | loss {:0.3f}\".format(epoch+1,epoch_time,loss))\n",
        "        \n",
        "\n"
      ]
    },
    {
      "cell_type": "code",
      "execution_count": null,
      "id": "74b55c4c",
      "metadata": {
        "colab": {
          "base_uri": "https://localhost:8080/",
          "height": 513
        },
        "id": "74b55c4c",
        "outputId": "d45a66ea-ca70-41e3-e931-3c74a7c8d0bd"
      },
      "outputs": [
        {
          "output_type": "stream",
          "name": "stderr",
          "text": [
            "INFO:absl:Unable to initialize backend 'tpu_driver': NOT_FOUND: Unable to find driver in registry given worker: \n",
            "INFO:absl:Unable to initialize backend 'cuda': FAILED_PRECONDITION: No visible GPU devices.\n",
            "INFO:absl:Unable to initialize backend 'rocm': NOT_FOUND: Could not find registered platform with name: \"rocm\". Available platform names are: CUDA Interpreter Host\n",
            "INFO:absl:Unable to initialize backend 'tpu': module 'jaxlib.xla_extension' has no attribute 'get_tpu_client'\n",
            "WARNING:absl:No GPU/TPU found, falling back to CPU. (Set TF_CPP_MIN_LOG_LEVEL=0 and rerun for more info.)\n"
          ]
        },
        {
          "output_type": "display_data",
          "data": {
            "text/plain": [
              "<Figure size 432x288 with 1 Axes>"
            ],
            "image/png": "[encoded data removed]"
          },
          "metadata": {
            "needs_background": "light"
          }
        },
        {
          "output_type": "stream",
          "name": "stdout",
          "text": [
            "i am here\n",
            "Epoch 1 | T: 53.51 | loss 1110318252032.000\n",
            "Epoch 2 | T: 32.93 | loss 5861887488.000\n",
            "Epoch 3 | T: 32.58 | loss 5438657024.000\n",
            "Epoch 4 | T: 31.86 | loss 5261625344.000\n",
            "Epoch 5 | T: 31.16 | loss 5149558272.000\n"
          ]
        }
      ],
      "source": [
        "logging.getLogger().setLevel(logging.INFO)\n",
        "\n",
        "main()"
      ]
    },
    {
      "cell_type": "code",
      "execution_count": null,
      "id": "72c94566",
      "metadata": {
        "id": "72c94566"
      },
      "outputs": [],
      "source": [
        ""
      ]
    },
    {
      "cell_type": "code",
      "execution_count": null,
      "id": "e3af46cf",
      "metadata": {
        "id": "e3af46cf"
      },
      "outputs": [],
      "source": [
        ""
      ]
    }
  ],
  "metadata": {
    "kernelspec": {
      "display_name": "Python 3",
      "language": "python",
      "name": "python3"
    },
    "language_info": {
      "codemirror_mode": {
        "name": "ipython",
        "version": 3
      },
      "file_extension": ".py",
      "mimetype": "text/x-python",
      "name": "python",
      "nbconvert_exporter": "python",
      "pygments_lexer": "ipython3",
      "version": "3.9.5"
    },
    "colab": {
      "name": "latent_sde_JAX_v1.ipynb",
      "provenance": [],
      "collapsed_sections": []
    },
    "gpuClass": "standard"
  },
  "nbformat": 4,
  "nbformat_minor": 5
}