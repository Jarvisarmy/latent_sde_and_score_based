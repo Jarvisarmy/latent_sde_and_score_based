{
 "cells": [
  {
   "cell_type": "code",
   "execution_count": 10,
   "id": "c0f37f3e",
   "metadata": {},
   "outputs": [],
   "source": [
    "import jax.numpy as jnp\n",
    "from jax import grad, jit, vmap\n",
    "from jax import random"
   ]
  },
  {
   "cell_type": "code",
   "execution_count": 11,
   "id": "8f0122d8",
   "metadata": {},
   "outputs": [
    {
     "name": "stdout",
     "output_type": "stream",
     "text": [
      "[-0.372111    0.2642311  -0.18252774 -0.7368198  -0.44030386 -0.15214427\n",
      " -0.6713536  -0.59086424  0.73168874  0.56730247]\n"
     ]
    }
   ],
   "source": [
    "key = random.PRNGKey(0)\n",
    "x = random.normal(key,(10,))\n",
    "print(x)"
   ]
  },
  {
   "cell_type": "code",
   "execution_count": 14,
   "id": "58fc7d32",
   "metadata": {},
   "outputs": [
    {
     "name": "stdout",
     "output_type": "stream",
     "text": [
      "[[ 1.3890219e+00 -3.2292128e-01  1.5543434e-01 ...  1.6672325e-01\n",
      "   1.0217547e+00  9.6981682e-02]\n",
      " [ 1.0637624e+00 -1.8089767e+00 -7.7910066e-02 ...  1.1778634e+00\n",
      "  -4.3357384e-01 -2.7877539e-01]\n",
      " [-4.4029760e-01 -3.2537556e-01  2.7817249e-01 ...  6.8317264e-01\n",
      "  -6.1108202e-01 -6.3071579e-01]\n",
      " ...\n",
      " [ 2.9218221e-01 -4.0055814e-01 -1.4978162e+00 ...  3.0673573e+00\n",
      "  -1.1350130e+00  4.0964663e-01]\n",
      " [ 2.7635777e-01  1.5621802e-01  2.2996697e-03 ...  6.8930730e-02\n",
      "  -4.0692575e-02  4.1683865e-01]\n",
      " [ 1.0231307e+00 -2.7423620e-01 -8.0369943e-01 ...  1.9415880e+00\n",
      "   1.0946989e+00  2.1876075e+00]]\n"
     ]
    }
   ],
   "source": [
    "size = 3000\n",
    "x = random.normal(key, (size, size), dtype=jnp.float32)\n",
    "print(x)\n",
    "\n",
    "# we added that block_until_ready because JAX uses asynchronous execution by default"
   ]
  },
  {
   "cell_type": "code",
   "execution_count": 13,
   "id": "c7e673e9",
   "metadata": {},
   "outputs": [
    {
     "name": "stdout",
     "output_type": "stream",
     "text": [
      "185 ms ± 19.3 ms per loop (mean ± std. dev. of 7 runs, 10 loops each)\n"
     ]
    }
   ],
   "source": [
    "# JAX Numpy functions work on regular NumPy arrays\n",
    "import numpy as np\n",
    "x = np.random.normal(size=(size,size)).astype(np.float32)\n",
    "%timeit jnp.dot(x,x.T).block_until_ready()"
   ]
  },
  {
   "cell_type": "code",
   "execution_count": 15,
   "id": "75ce11f8",
   "metadata": {},
   "outputs": [
    {
     "name": "stdout",
     "output_type": "stream",
     "text": [
      "190 ms ± 15.1 ms per loop (mean ± std. dev. of 7 runs, 10 loops each)\n"
     ]
    }
   ],
   "source": [
    "# you can ensure that an NDArray is backed by device memory using device_put()\n",
    "from jax import device_put\n",
    "\n",
    "x = np.random.normal(size=(size,size)).astype(np.float32)\n",
    "x = device_put(x)\n",
    "%timeit jnp.dot(x, x.T).block_until_ready()"
   ]
  },
  {
   "cell_type": "code",
   "execution_count": 17,
   "id": "122820a1",
   "metadata": {},
   "outputs": [
    {
     "name": "stdout",
     "output_type": "stream",
     "text": [
      "2.33 ms ± 296 µs per loop (mean ± std. dev. of 7 runs, 100 loops each)\n"
     ]
    }
   ],
   "source": [
    "# using jit() to speed up functions\n",
    "def selu(x, alpha=1.67, lmbda=1.05):\n",
    "    return lmbda * jnp.where(x >0, x, alpha*jnp.exp(x)-alpha)\n",
    "\n",
    "x = random.normal(key, (1000000,))\n",
    "%timeit selu(x).block_until_ready()"
   ]
  },
  {
   "cell_type": "code",
   "execution_count": 18,
   "id": "96695ae3",
   "metadata": {},
   "outputs": [
    {
     "name": "stdout",
     "output_type": "stream",
     "text": [
      "662 µs ± 18.7 µs per loop (mean ± std. dev. of 7 runs, 1000 loops each)\n"
     ]
    }
   ],
   "source": [
    "# we can speed it up with @jit, which will jit-compile the first time selu is called and will be cached thereafter\n",
    "selu_jit = jit(selu)\n",
    "%timeit selu_jit(x).block_until_ready()"
   ]
  },
  {
   "cell_type": "markdown",
   "id": "3ce8e8bc",
   "metadata": {},
   "source": [
    "### taking derivatives with Grad()"
   ]
  },
  {
   "cell_type": "code",
   "execution_count": 19,
   "id": "0453d3cb",
   "metadata": {},
   "outputs": [
    {
     "name": "stdout",
     "output_type": "stream",
     "text": [
      "[0.25       0.19661197 0.10499357]\n"
     ]
    }
   ],
   "source": [
    "def sum_logistic(x):\n",
    "    return jnp.sum(1.0/(1.0+jnp.exp(-x)))\n",
    "x_small = jnp.arange(3.)\n",
    "derivative_fn = grad(sum_logistic)\n",
    "print(derivative_fn(x_small))"
   ]
  },
  {
   "cell_type": "code",
   "execution_count": 20,
   "id": "1261cba2",
   "metadata": {},
   "outputs": [
    {
     "name": "stdout",
     "output_type": "stream",
     "text": [
      "[0.24998187 0.1964569  0.10502338]\n"
     ]
    }
   ],
   "source": [
    "def first_finite_difference(f,x):\n",
    "    eps = 1e-3\n",
    "    return jnp.array([(f(x+eps*v)-f(x-eps*v))/(2*eps) for v in jnp.eye(len(x))])\n",
    "print(first_finite_difference(sum_logistic,x_small))"
   ]
  },
  {
   "cell_type": "code",
   "execution_count": 21,
   "id": "d0ea9ad7",
   "metadata": {},
   "outputs": [
    {
     "name": "stdout",
     "output_type": "stream",
     "text": [
      "-0.035325598\n"
     ]
    }
   ],
   "source": [
    "print(grad(jit(grad(jit(grad(sum_logistic)))))(1.0))"
   ]
  },
  {
   "cell_type": "code",
   "execution_count": 22,
   "id": "f229c8a2",
   "metadata": {},
   "outputs": [],
   "source": [
    "from jax import jacfwd, jacrev\n",
    "def hessian(fun):\n",
    "    return jit(jacfwd(jacrev(fun)))"
   ]
  },
  {
   "cell_type": "markdown",
   "id": "0afa8516",
   "metadata": {},
   "source": [
    "### Auto-vectorization with vmap()"
   ]
  },
  {
   "cell_type": "code",
   "execution_count": 23,
   "id": "71f04251",
   "metadata": {},
   "outputs": [],
   "source": [
    "mat = random.normal(key, (150,100))\n",
    "batched_x = random.normal(key,(10,100))\n",
    "\n",
    "def apply_matrix(v):\n",
    "    return jnp.dot(mat, v)"
   ]
  },
  {
   "cell_type": "code",
   "execution_count": 24,
   "id": "d63d03d1",
   "metadata": {},
   "outputs": [
    {
     "name": "stdout",
     "output_type": "stream",
     "text": [
      "Naively batched\n",
      "1.47 ms ± 132 µs per loop (mean ± std. dev. of 7 runs, 1000 loops each)\n"
     ]
    }
   ],
   "source": [
    "def naively_batched_apply_matrix(v_batched):\n",
    "    return jnp.stack([apply_matrix(v) for v in v_batched])\n",
    "\n",
    "print(\"Naively batched\")\n",
    "%timeit naively_batched_apply_matrix(batched_x).block_until_ready()"
   ]
  },
  {
   "cell_type": "code",
   "execution_count": 25,
   "id": "0ed7107f",
   "metadata": {},
   "outputs": [
    {
     "name": "stdout",
     "output_type": "stream",
     "text": [
      "manually batched\n",
      "12.2 µs ± 850 ns per loop (mean ± std. dev. of 7 runs, 100000 loops each)\n"
     ]
    }
   ],
   "source": [
    "@jit\n",
    "def batched_apply_matrix(v_batched):\n",
    "    return jnp.dot(v_batched, mat.T)\n",
    "print('manually batched')\n",
    "%timeit batched_apply_matrix(batched_x).block_until_ready()"
   ]
  },
  {
   "cell_type": "code",
   "execution_count": 26,
   "id": "84313ff4",
   "metadata": {},
   "outputs": [
    {
     "name": "stdout",
     "output_type": "stream",
     "text": [
      "auto-vectorized with vmap\n",
      "17.8 µs ± 892 ns per loop (mean ± std. dev. of 7 runs, 10000 loops each)\n"
     ]
    }
   ],
   "source": [
    "@jit\n",
    "def vmap_batched_apply_matrix(v_batched):\n",
    "    return vmap(apply_matrix)(v_batched)\n",
    "print('auto-vectorized with vmap')\n",
    "%timeit vmap_batched_apply_matrix(batched_x).block_until_ready()"
   ]
  },
  {
   "cell_type": "code",
   "execution_count": null,
   "id": "53e6131b",
   "metadata": {},
   "outputs": [],
   "source": []
  }
 ],
 "metadata": {
  "kernelspec": {
   "display_name": "Python 3",
   "language": "python",
   "name": "python3"
  },
  "language_info": {
   "codemirror_mode": {
    "name": "ipython",
    "version": 3
   },
   "file_extension": ".py",
   "mimetype": "text/x-python",
   "name": "python",
   "nbconvert_exporter": "python",
   "pygments_lexer": "ipython3",
   "version": "3.9.5"
  }
 },
 "nbformat": 4,
 "nbformat_minor": 5
}
