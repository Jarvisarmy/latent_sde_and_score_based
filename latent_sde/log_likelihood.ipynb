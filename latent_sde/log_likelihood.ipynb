{
 "cells": [
  {
   "cell_type": "code",
   "execution_count": 5,
   "id": "3fe09280",
   "metadata": {},
   "outputs": [],
   "source": [
    "import argparse\n",
    "import logging\n",
    "import math\n",
    "import os\n",
    "import random\n",
    "from collections import namedtuple\n",
    "from typing import Optional, Union\n",
    "\n",
    "import matplotlib.pyplot as plt\n",
    "import numpy as np\n",
    "import torch\n",
    "import tqdm\n",
    "from torch import distributions, nn, optim\n",
    "\n",
    "import torchsde\n",
    "\n",
    "import statsmodels.api as sm\n",
    "import scipy.stats as scistats"
   ]
  },
  {
   "cell_type": "code",
   "execution_count": 6,
   "id": "3ec8089c",
   "metadata": {},
   "outputs": [],
   "source": [
    "# check if the gpu is available or not, if yes, use gpu\n",
    "device = torch.device('cuda:0' if torch.cuda.is_available() else 'cpu')"
   ]
  },
  {
   "cell_type": "code",
   "execution_count": 34,
   "id": "a500fa1b",
   "metadata": {},
   "outputs": [
    {
     "data": {
      "image/png": "[encoded data removed]",
      "text/plain": [
       "<Figure size 432x288 with 1 Axes>"
      ]
     },
     "metadata": {
      "needs_background": "light"
     },
     "output_type": "display_data"
    }
   ],
   "source": [
    "T = 120\n",
    "s = 50\n",
    "mu = 0\n",
    "sigma = 0.1\n",
    "phi = 0.9\n",
    "def make_time_series():\n",
    "    z0 = np.random.normal(0,sigma,1)\n",
    "    z = np.zeros(T)\n",
    "    z[0] = z0\n",
    "    shocks = np.random.normal(mu, sigma, T)\n",
    "    for idx_t in range(T-1):\n",
    "        z[idx_t+1] = phi*z[idx_t] + shocks[idx_t+1] + 0.1*np.sin(2*np.pi*idx_t/s)\n",
    "    return z\n",
    "r = make_time_series()\n",
    "plt.plot(range(T),r)\n",
    "plt.show()"
   ]
  },
  {
   "cell_type": "code",
   "execution_count": 35,
   "id": "f27576d7",
   "metadata": {},
   "outputs": [
    {
     "name": "stdout",
     "output_type": "stream",
     "text": [
      "86.36352643375278\n"
     ]
    }
   ],
   "source": [
    "# conditional log likelihood computed by stat model\n",
    "model = sm.tsa.AutoReg(endog=r,lags=1, trend=\"t\")\n",
    "result = model.fit()\n",
    "llf = result.llf\n",
    "print(llf)"
   ]
  },
  {
   "cell_type": "code",
   "execution_count": 37,
   "id": "32689bf2",
   "metadata": {},
   "outputs": [
    {
     "name": "stdout",
     "output_type": "stream",
     "text": [
      "95.97701414134441\n"
     ]
    }
   ],
   "source": [
    "# conditional log likelihood computed by equation\n",
    "t = np.linspace(1,T,T)\n",
    "c = 0.1*np.sin(2*np.pi*t/s)\n",
    "epsilon = np.zeros(T)\n",
    "for i in range(1,T):\n",
    "    epsilon[i] = r[i] - phi*r[i-1] - c[i]\n",
    "ll = -0.5 * (T - p) * np.log(2 * np.pi) - 0.5 * (T - p) * np.log(sigma ** 2) - 0.5 * np.dot(epsilon, epsilon) * sigma ** (-2)\n",
    "print(ll)"
   ]
  },
  {
   "cell_type": "code",
   "execution_count": 40,
   "id": "2b9244b1",
   "metadata": {},
   "outputs": [
    {
     "name": "stdout",
     "output_type": "stream",
     "text": [
      "96.23740734788542\n"
     ]
    }
   ],
   "source": [
    "# exact log likelihood computed by equation\n",
    "exact_ll = -0.5*T*np.log(2*np.pi)-0.5*np.log(sigma**2/(1-phi**2))-(1-phi**2)/(2*sigma**2)*(r[0]-c[0]/(1-phi))**2-((T-1)/2)*np.log(sigma**2)-0.5 * np.dot(epsilon, epsilon) * sigma ** (-2)\n",
    "print(exact_ll)"
   ]
  },
  {
   "cell_type": "code",
   "execution_count": null,
   "id": "98a8c85f",
   "metadata": {},
   "outputs": [],
   "source": []
  }
 ],
 "metadata": {
  "kernelspec": {
   "display_name": "Python 3",
   "language": "python",
   "name": "python3"
  },
  "language_info": {
   "codemirror_mode": {
    "name": "ipython",
    "version": 3
   },
   "file_extension": ".py",
   "mimetype": "text/x-python",
   "name": "python",
   "nbconvert_exporter": "python",
   "pygments_lexer": "ipython3",
   "version": "3.9.5"
  }
 },
 "nbformat": 4,
 "nbformat_minor": 5
}
